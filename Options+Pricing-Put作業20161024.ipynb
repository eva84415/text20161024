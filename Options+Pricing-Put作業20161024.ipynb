{
 "cells": [
  {
   "cell_type": "markdown",
   "metadata": {
    "collapsed": true
   },
   "source": [
    "# OOP 寫法 (Q：這樣寫好？)\n",
    "用 OOP 語法改寫上面實作的內容"
   ]
  },
  {
   "cell_type": "code",
   "execution_count": 48,
   "metadata": {
    "collapsed": true
   },
   "outputs": [],
   "source": [
    "class BlackSholes:\n",
    "    # 方法：初始化屬性\n",
    "    def __init__(self, S0, K, T, r, Sigma, div = 0):\n",
    "        self.S0 = S0  \n",
    "        self.K = K \n",
    "        self.T = T  \n",
    "        self.r = r\n",
    "        self.Sigma = Sigma\n",
    "        self.div = div\n",
    "    # 方法：Closed-form Solution (GF)\n",
    "    def d1_Value_GF(self):\n",
    "        from math import log, sqrt, exp\n",
    "        from scipy import stats\n",
    "        C0 = (log(S0 / K) + (r + 0.5 * Sigma ** 2) * T) / (Sigma * sqrt(T))\n",
    "        #return C0\n",
    "        ValMethod = 'GF'\n",
    "        self.display(ValMethod, C0)\n",
    "        \n",
    "         # 方法：Closed-form Solution (HF)    \n",
    "    def d2_Value_HF(self):\n",
    "        from math import log, sqrt, exp\n",
    "        from scipy import stats\n",
    "        C0 = (log(S0 / K) + (r - 0.5 * Sigma ** 2) * T) / (Sigma * sqrt(T))\n",
    "        #return P0\n",
    "        ValMethod = 'HF'\n",
    "        self.display(ValMethod, C0)\n",
    "               \n",
    "    # 方法：Closed-form Solution (CF)\n",
    "    def Call_Value_CF(self):\n",
    "        from math import log, sqrt, exp\n",
    "        from scipy import stats\n",
    "        d1 = (log(S0 / K) + (r + 0.5 * Sigma ** 2) * T) / (Sigma * sqrt(T))\n",
    "        d2 = (log(S0 / K) + (r - 0.5 * Sigma ** 2) * T) / (Sigma * sqrt(T))\n",
    "        C0 = (S0 * stats.norm.cdf(d1, 0, 1)) - K * exp(-r * T) * stats.norm.cdf(d2, 0, 1)\n",
    "        #return C0\n",
    "        ValMethod = 'CF'\n",
    "        self.display(ValMethod, C0)\n",
    "        \n",
    "         # 方法：Closed-form Solution (BF)    \n",
    "    def Put_Value_BF(self):\n",
    "        from math import log, sqrt, exp\n",
    "        from scipy import stats\n",
    "        d1 = (log(S0 / K) + (r + 0.5 * Sigma ** 2) * T) / (Sigma * sqrt(T))\n",
    "        d2 = (log(S0 / K) + (r - 0.5 * Sigma ** 2) * T) / (Sigma * sqrt(T))\n",
    "        C0 = K * exp(-r * T) *(1-stats.norm.cdf(d2, 0, 1)) - (S0 *(1-stats.norm.cdf(d1, 0, 1))) \n",
    "        #return P0\n",
    "        ValMethod = 'BF'\n",
    "        self.display(ValMethod, C0)\n",
    "         \n",
    "    # 方法：顯示計算結果\n",
    "    def display(self, ValMethod, C0):\n",
    "        if ValMethod == 'CF':\n",
    "            print('Call (' + ValMethod + '): ' + str(C0))\n",
    "        elif ValMethod == 'BF':\n",
    "            print('Put (' + ValMethod + '): ' + str(C0))\n",
    "        elif ValMethod == 'GF':\n",
    "            print('d1 (' + ValMethod + '): ' + str(C0))\n",
    "        elif ValMethod == 'HF':\n",
    "            print('d2 (' + ValMethod + '): ' + str(C0))   "
   ]
  },
  {
   "cell_type": "code",
   "execution_count": 49,
   "metadata": {
    "collapsed": false
   },
   "outputs": [
    {
     "name": "stdout",
     "output_type": "stream",
     "text": [
      "d1 (GF): 0.10604917915283975\n",
      "d2 (HF): -0.09395082084716028\n",
      "Call (CF): 8.02135223514\n",
      "Put (BF): 7.90044180772\n"
     ]
    }
   ],
   "source": [
    "S0 = 100\n",
    "K = 105\n",
    "T = 1\n",
    "r = 0.05\n",
    "Sigma = 0.2\n",
    "N = 100000\n",
    "\n",
    "BS = BlackSholes(S0, K, T, r, Sigma)\n",
    "BS.d1_Value_GF()\n",
    "BS.d2_Value_HF()\n",
    "BS.Call_Value_CF()\n",
    "BS.Put_Value_BF()"
   ]
  },
  {
   "cell_type": "code",
   "execution_count": null,
   "metadata": {
    "collapsed": true
   },
   "outputs": [],
   "source": []
  }
 ],
 "metadata": {
  "kernelspec": {
   "display_name": "Python 3",
   "language": "python",
   "name": "python3"
  },
  "language_info": {
   "codemirror_mode": {
    "name": "ipython",
    "version": 3
   },
   "file_extension": ".py",
   "mimetype": "text/x-python",
   "name": "python",
   "nbconvert_exporter": "python",
   "pygments_lexer": "ipython3",
   "version": "3.5.1"
  }
 },
 "nbformat": 4,
 "nbformat_minor": 0
}
